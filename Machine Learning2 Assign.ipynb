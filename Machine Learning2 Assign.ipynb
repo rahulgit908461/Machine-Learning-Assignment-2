{
 "cells": [
  {
   "cell_type": "code",
   "execution_count": 1,
   "id": "7aea540e-e7cb-46f3-b436-fe005b7567a9",
   "metadata": {},
   "outputs": [],
   "source": [
    "#Q1: Define overfitting and underfitting in machine learning. What are the consequences of each, and how\n",
    "#can they be mitigated?"
   ]
  },
  {
   "cell_type": "code",
   "execution_count": 2,
   "id": "70c0b5ff-915b-4d51-a324-aa1eb451111b",
   "metadata": {},
   "outputs": [],
   "source": [
    "#Overfitting occurs when the model cannot generalize and fits too closely to the training dataset instead. \n",
    "#Overfitting happens due to several reasons, such as: The training data size is too small and does not contain \n",
    "#enough data samples to accurately represent all possible input data values.\n",
    "#Your model is underfitting the training data when the model performs poorly on the training data. This is \n",
    "#because the model is unable to capture the relationship between the input examples (often called X) and the \n",
    "#target values (often called Y)."
   ]
  },
  {
   "cell_type": "code",
   "execution_count": 3,
   "id": "e6798c30-5133-4a9d-9844-5aa7f373b6f7",
   "metadata": {},
   "outputs": [],
   "source": [
    "#Q2: How can we reduce overfitting? Explain in brief."
   ]
  },
  {
   "cell_type": "code",
   "execution_count": 9,
   "id": "276e3ce9-785e-4205-afae-8994681900ec",
   "metadata": {},
   "outputs": [],
   "source": [
    "#You can prevent overfitting by diversifying and scaling your training data set or using some other data \n",
    "# science strategies, like those given below. Early stopping. Early stopping pauses the training phase before \n",
    "#the machine learning model learns the noise in the data. ...\n",
    "\n",
    "#Pruning\n",
    "#Regularization\n",
    "#Ensembling\n",
    "#Data augmentation"
   ]
  },
  {
   "cell_type": "code",
   "execution_count": 5,
   "id": "344c7220-f4d7-4b13-a019-5126d6884525",
   "metadata": {},
   "outputs": [],
   "source": [
    "#Q3. Explain underfitting. List scenarios where underfitting can occur in ML."
   ]
  },
  {
   "cell_type": "code",
   "execution_count": 6,
   "id": "82229aae-63e0-4b25-b3a5-329069b30cfc",
   "metadata": {},
   "outputs": [],
   "source": [
    "#Underfitting occurs when our machine learning model is not able to capture the underlying trend of the data. \n",
    "#To avoid the overfitting in the model, the fed of training data can be stopped at an early stage, \n",
    "#due to which the model may not learn enough from the training data."
   ]
  },
  {
   "cell_type": "code",
   "execution_count": 7,
   "id": "f81d4c2f-6afa-4836-a596-99304c8358de",
   "metadata": {},
   "outputs": [],
   "source": [
    "#Q4.: Explain the bias-variance tradeoff in machine learning. What is the relationship between bias and\n",
    "#variance, and how do they affect model performance?"
   ]
  },
  {
   "cell_type": "code",
   "execution_count": 10,
   "id": "efcfd4ce-873a-4a58-9080-4edb959a32ab",
   "metadata": {},
   "outputs": [],
   "source": [
    "#In statistics and machine learning, the bias–variance tradeoff is the property of a model that the variance \n",
    "#of the parameter estimated across samples can be reduced by increasing the bias in the estimated parameters.\n",
    "#Bias is the simplifying assumptions made by the model to make the target function easier to approximate. \n",
    "#Variance is the amount that the estimate of the target function will change given different training data. \n",
    "#Trade-off is tension between the error introduced by the bias and the variance."
   ]
  },
  {
   "cell_type": "code",
   "execution_count": 11,
   "id": "c6bb3220-932a-40fc-9d93-458459fc7c06",
   "metadata": {},
   "outputs": [],
   "source": [
    "#5: Discuss some common methods for detecting overfitting and underfitting in machine learning models.\n",
    "#How can you determine whether your model is overfitting or underfitting?"
   ]
  },
  {
   "cell_type": "code",
   "execution_count": 12,
   "id": "6daeb5dd-45c6-4e18-ae34-d1e9dc4d9207",
   "metadata": {},
   "outputs": [],
   "source": [
    "#We can determine whether a predictive model is underfitting or overfitting the training data by looking at \n",
    "#the prediction error on the training data and the evaluation data. Your model is underfitting the training \n",
    "#data when the model performs poorly on the training data.\n",
    "#An overfitting model performs well on the training data but doesn't generalize to testing data.\n",
    "#An underfitting model performs poorly on training and testing data."
   ]
  },
  {
   "cell_type": "code",
   "execution_count": 13,
   "id": "72212bd4-fdb2-4918-b268-7d824ecee815",
   "metadata": {},
   "outputs": [],
   "source": [
    "#Q6: Compare and contrast bias and variance in machine learning. What are some examples of high bias\n",
    "#and high variance models, and how do they differ in terms of their performance?"
   ]
  },
  {
   "cell_type": "code",
   "execution_count": 14,
   "id": "808e20a6-93bd-4aa8-9da7-519456df2c7c",
   "metadata": {},
   "outputs": [],
   "source": [
    "#Bias and variance are inversely connected. \n",
    "#The trade-off challenge depends on the type of model under consideration. A linear machine-learning algorithm \n",
    "#will exhibit high bias but low variance. On the other hand, a non-linear algorithm will exhibit low bias but \n",
    "#high variance."
   ]
  },
  {
   "cell_type": "code",
   "execution_count": 16,
   "id": "e8573ae3-6d66-4f92-8860-0cba8d989f94",
   "metadata": {},
   "outputs": [],
   "source": [
    "#Q7.: What is regularization in machine learning, and how can it be used to prevent overfitting? Describe\n",
    "#some common regularization techniques and how they work."
   ]
  },
  {
   "cell_type": "code",
   "execution_count": 18,
   "id": "3110fe2f-74c9-42f7-b042-85e042527e83",
   "metadata": {},
   "outputs": [],
   "source": [
    "#Regularization refers to techniques that are used to calibrate machine learning models in order to minimize \n",
    "#the adjusted loss function and prevent overfitting or underfitting. Using Regularization, we can fit our\n",
    "#machine learning model appropriately on a given test set and hence reduce the errors in it."
   ]
  },
  {
   "cell_type": "code",
   "execution_count": null,
   "id": "21506a48-3fbe-453c-b76d-f5d96201e914",
   "metadata": {},
   "outputs": [],
   "source": []
  }
 ],
 "metadata": {
  "kernelspec": {
   "display_name": "Python 3 (ipykernel)",
   "language": "python",
   "name": "python3"
  },
  "language_info": {
   "codemirror_mode": {
    "name": "ipython",
    "version": 3
   },
   "file_extension": ".py",
   "mimetype": "text/x-python",
   "name": "python",
   "nbconvert_exporter": "python",
   "pygments_lexer": "ipython3",
   "version": "3.10.8"
  }
 },
 "nbformat": 4,
 "nbformat_minor": 5
}
